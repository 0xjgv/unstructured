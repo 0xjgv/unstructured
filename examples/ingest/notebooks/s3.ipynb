{
 "cells": [
  {
   "cell_type": "code",
   "execution_count": 1,
   "id": "70f32ba1-c6c7-45d4-bb90-9aed992ee901",
   "metadata": {
    "collapsed": true,
    "jupyter": {
     "outputs_hidden": true
    }
   },
   "outputs": [
    {
     "name": "stdout",
     "output_type": "stream",
     "text": [
      "Requirement already satisfied: unstructured in /Users/potter/Documents/v/jupyter_venv/venv/lib/python3.10/site-packages (0.12.6)\n",
      "Requirement already satisfied: python-dateutil==2.8.2 in /Users/potter/Documents/v/jupyter_venv/venv/lib/python3.10/site-packages (from unstructured) (2.8.2)\n",
      "Requirement already satisfied: filetype==1.2.0 in /Users/potter/Documents/v/jupyter_venv/venv/lib/python3.10/site-packages (from unstructured) (1.2.0)\n",
      "Requirement already satisfied: six==1.16.0 in /Users/potter/Documents/v/jupyter_venv/venv/lib/python3.10/site-packages (from unstructured) (1.16.0)\n",
      "Requirement already satisfied: packaging==23.2 in /Users/potter/Documents/v/jupyter_venv/venv/lib/python3.10/site-packages (from unstructured) (23.2)\n",
      "Requirement already satisfied: nltk==3.8.1 in /Users/potter/Documents/v/jupyter_venv/venv/lib/python3.10/site-packages (from unstructured) (3.8.1)\n",
      "Requirement already satisfied: tabulate==0.9.0 in /Users/potter/Documents/v/jupyter_venv/venv/lib/python3.10/site-packages (from unstructured) (0.9.0)\n",
      "Requirement already satisfied: wrapt==1.16.0 in /Users/potter/Documents/v/jupyter_venv/venv/lib/python3.10/site-packages (from unstructured) (1.16.0)\n",
      "Requirement already satisfied: marshmallow==3.20.2 in /Users/potter/Documents/v/jupyter_venv/venv/lib/python3.10/site-packages (from unstructured) (3.20.2)\n",
      "Requirement already satisfied: requests==2.31.0 in /Users/potter/Documents/v/jupyter_venv/venv/lib/python3.10/site-packages (from unstructured) (2.31.0)\n",
      "Requirement already satisfied: dataclasses-json==0.6.4 in /Users/potter/Documents/v/jupyter_venv/venv/lib/python3.10/site-packages (from unstructured) (0.6.4)\n",
      "Requirement already satisfied: charset-normalizer==3.3.2 in /Users/potter/Documents/v/jupyter_venv/venv/lib/python3.10/site-packages (from unstructured) (3.3.2)\n",
      "Requirement already satisfied: numpy==1.26.4 in /Users/potter/Documents/v/jupyter_venv/venv/lib/python3.10/site-packages (from unstructured) (1.26.4)\n",
      "Requirement already satisfied: rapidfuzz==3.6.1 in /Users/potter/Documents/v/jupyter_venv/venv/lib/python3.10/site-packages (from unstructured) (3.6.1)\n",
      "Requirement already satisfied: langdetect==1.0.9 in /Users/potter/Documents/v/jupyter_venv/venv/lib/python3.10/site-packages (from unstructured) (1.0.9)\n",
      "Requirement already satisfied: typing-extensions==4.9.0 in /Users/potter/Documents/v/jupyter_venv/venv/lib/python3.10/site-packages (from unstructured) (4.9.0)\n",
      "Requirement already satisfied: urllib3==1.26.18 in /Users/potter/Documents/v/jupyter_venv/venv/lib/python3.10/site-packages (from unstructured) (1.26.18)\n",
      "Requirement already satisfied: lxml==5.1.0 in /Users/potter/Documents/v/jupyter_venv/venv/lib/python3.10/site-packages (from unstructured) (5.1.0)\n",
      "Requirement already satisfied: typing-inspect==0.9.0 in /Users/potter/Documents/v/jupyter_venv/venv/lib/python3.10/site-packages (from unstructured) (0.9.0)\n",
      "Requirement already satisfied: certifi==2024.2.2 in /Users/potter/Documents/v/jupyter_venv/venv/lib/python3.10/site-packages (from unstructured) (2024.2.2)\n",
      "Requirement already satisfied: soupsieve==2.5 in /Users/potter/Documents/v/jupyter_venv/venv/lib/python3.10/site-packages (from unstructured) (2.5)\n",
      "Requirement already satisfied: regex==2023.12.25 in /Users/potter/Documents/v/jupyter_venv/venv/lib/python3.10/site-packages (from unstructured) (2023.12.25)\n",
      "Requirement already satisfied: jsonpath-python==1.0.6 in /Users/potter/Documents/v/jupyter_venv/venv/lib/python3.10/site-packages (from unstructured) (1.0.6)\n",
      "Requirement already satisfied: click==8.1.7 in /Users/potter/Documents/v/jupyter_venv/venv/lib/python3.10/site-packages (from unstructured) (8.1.7)\n",
      "Requirement already satisfied: dataclasses-json-speakeasy==0.5.11 in /Users/potter/Documents/v/jupyter_venv/venv/lib/python3.10/site-packages (from unstructured) (0.5.11)\n",
      "Requirement already satisfied: chardet==5.2.0 in /Users/potter/Documents/v/jupyter_venv/venv/lib/python3.10/site-packages (from unstructured) (5.2.0)\n",
      "Requirement already satisfied: python-magic==0.4.27 in /Users/potter/Documents/v/jupyter_venv/venv/lib/python3.10/site-packages (from unstructured) (0.4.27)\n",
      "Requirement already satisfied: backoff==2.2.1 in /Users/potter/Documents/v/jupyter_venv/venv/lib/python3.10/site-packages (from unstructured) (2.2.1)\n",
      "Requirement already satisfied: emoji==2.10.1 in /Users/potter/Documents/v/jupyter_venv/venv/lib/python3.10/site-packages (from unstructured) (2.10.1)\n",
      "Requirement already satisfied: mypy-extensions==1.0.0 in /Users/potter/Documents/v/jupyter_venv/venv/lib/python3.10/site-packages (from unstructured) (1.0.0)\n",
      "Requirement already satisfied: beautifulsoup4==4.12.3 in /Users/potter/Documents/v/jupyter_venv/venv/lib/python3.10/site-packages (from unstructured) (4.12.3)\n",
      "Requirement already satisfied: idna==3.6 in /Users/potter/Documents/v/jupyter_venv/venv/lib/python3.10/site-packages (from unstructured) (3.6)\n",
      "Requirement already satisfied: python-iso639==2024.2.7 in /Users/potter/Documents/v/jupyter_venv/venv/lib/python3.10/site-packages (from unstructured) (2024.2.7)\n",
      "Requirement already satisfied: joblib==1.3.2 in /Users/potter/Documents/v/jupyter_venv/venv/lib/python3.10/site-packages (from unstructured) (1.3.2)\n",
      "Requirement already satisfied: tqdm==4.66.2 in /Users/potter/Documents/v/jupyter_venv/venv/lib/python3.10/site-packages (from unstructured) (4.66.2)\n",
      "Requirement already satisfied: unstructured-client==0.18.0 in /Users/potter/Documents/v/jupyter_venv/venv/lib/python3.10/site-packages (from unstructured) (0.18.0)\n",
      "Requirement already satisfied: botocore==1.31.17 in /Users/potter/Documents/v/jupyter_venv/venv/lib/python3.10/site-packages (from unstructured) (1.31.17)\n",
      "Requirement already satisfied: yarl==1.9.4 in /Users/potter/Documents/v/jupyter_venv/venv/lib/python3.10/site-packages (from unstructured) (1.9.4)\n",
      "Requirement already satisfied: s3fs==2024.2.0 in /Users/potter/Documents/v/jupyter_venv/venv/lib/python3.10/site-packages (from unstructured) (2024.2.0)\n",
      "Requirement already satisfied: aioitertools==0.11.0 in /Users/potter/Documents/v/jupyter_venv/venv/lib/python3.10/site-packages (from unstructured) (0.11.0)\n",
      "Requirement already satisfied: aiobotocore==2.7.0 in /Users/potter/Documents/v/jupyter_venv/venv/lib/python3.10/site-packages (from unstructured) (2.7.0)\n",
      "Requirement already satisfied: multidict==6.0.5 in /Users/potter/Documents/v/jupyter_venv/venv/lib/python3.10/site-packages (from unstructured) (6.0.5)\n",
      "Requirement already satisfied: attrs==23.2.0 in /Users/potter/Documents/v/jupyter_venv/venv/lib/python3.10/site-packages (from unstructured) (23.2.0)\n",
      "Requirement already satisfied: aiohttp==3.9.3 in /Users/potter/Documents/v/jupyter_venv/venv/lib/python3.10/site-packages (from unstructured) (3.9.3)\n",
      "Requirement already satisfied: async-timeout==4.0.3 in /Users/potter/Documents/v/jupyter_venv/venv/lib/python3.10/site-packages (from unstructured) (4.0.3)\n",
      "Requirement already satisfied: aiosignal==1.3.1 in /Users/potter/Documents/v/jupyter_venv/venv/lib/python3.10/site-packages (from unstructured) (1.3.1)\n",
      "Requirement already satisfied: jmespath==1.0.1 in /Users/potter/Documents/v/jupyter_venv/venv/lib/python3.10/site-packages (from unstructured) (1.0.1)\n",
      "Requirement already satisfied: fsspec==2024.2.0 in /Users/potter/Documents/v/jupyter_venv/venv/lib/python3.10/site-packages (from unstructured) (2024.2.0)\n",
      "Requirement already satisfied: frozenlist==1.4.1 in /Users/potter/Documents/v/jupyter_venv/venv/lib/python3.10/site-packages (from unstructured) (1.4.1)\n",
      "Requirement already satisfied: httpcore==1.0.3 in /Users/potter/Documents/v/jupyter_venv/venv/lib/python3.10/site-packages (from unstructured) (1.0.3)\n",
      "Requirement already satisfied: notion-client==2.2.1 in /Users/potter/Documents/v/jupyter_venv/venv/lib/python3.10/site-packages (from unstructured) (2.2.1)\n",
      "Requirement already satisfied: anyio==3.7.1 in /Users/potter/Documents/v/jupyter_venv/venv/lib/python3.10/site-packages (from unstructured) (3.7.1)\n",
      "Requirement already satisfied: h11==0.14.0 in /Users/potter/Documents/v/jupyter_venv/venv/lib/python3.10/site-packages (from unstructured) (0.14.0)\n",
      "Requirement already satisfied: htmlbuilder==1.0.0 in /Users/potter/Documents/v/jupyter_venv/venv/lib/python3.10/site-packages (from unstructured) (1.0.0)\n",
      "Requirement already satisfied: exceptiongroup==1.2.0 in /Users/potter/Documents/v/jupyter_venv/venv/lib/python3.10/site-packages (from unstructured) (1.2.0)\n",
      "Requirement already satisfied: sniffio==1.3.0 in /Users/potter/Documents/v/jupyter_venv/venv/lib/python3.10/site-packages (from unstructured) (1.3.0)\n",
      "Requirement already satisfied: httpx==0.26.0 in /Users/potter/Documents/v/jupyter_venv/venv/lib/python3.10/site-packages (from unstructured) (0.26.0)\n",
      "Requirement already satisfied: pdfminer-six==20221105 in /Users/potter/Documents/v/jupyter_venv/venv/lib/python3.10/site-packages (from unstructured) (20221105)\n",
      "Requirement already satisfied: coloredlogs==15.0.1 in /Users/potter/Documents/v/jupyter_venv/venv/lib/python3.10/site-packages (from unstructured) (15.0.1)\n",
      "Requirement already satisfied: pdf2image==1.17.0 in /Users/potter/Documents/v/jupyter_venv/venv/lib/python3.10/site-packages (from unstructured) (1.17.0)\n",
      "Requirement already satisfied: onnxruntime==1.15.1 in /Users/potter/Documents/v/jupyter_venv/venv/lib/python3.10/site-packages (from unstructured) (1.15.1)\n",
      "Requirement already satisfied: humanfriendly==10.0 in /Users/potter/Documents/v/jupyter_venv/venv/lib/python3.10/site-packages (from unstructured) (10.0)\n",
      "Requirement already satisfied: python-multipart==0.0.9 in /Users/potter/Documents/v/jupyter_venv/venv/lib/python3.10/site-packages (from unstructured) (0.0.9)\n",
      "Requirement already satisfied: onnx==1.15.0 in /Users/potter/Documents/v/jupyter_venv/venv/lib/python3.10/site-packages (from unstructured) (1.15.0)\n",
      "Requirement already satisfied: pycparser==2.21 in /Users/potter/Documents/v/jupyter_venv/venv/lib/python3.10/site-packages (from unstructured) (2.21)\n",
      "Requirement already satisfied: tokenizers==0.15.2 in /Users/potter/Documents/v/jupyter_venv/venv/lib/python3.10/site-packages (from unstructured) (0.15.2)\n",
      "Requirement already satisfied: cffi==1.16.0 in /Users/potter/Documents/v/jupyter_venv/venv/lib/python3.10/site-packages (from unstructured) (1.16.0)\n",
      "Requirement already satisfied: huggingface-hub==0.20.3 in /Users/potter/Documents/v/jupyter_venv/venv/lib/python3.10/site-packages (from unstructured) (0.20.3)\n",
      "Requirement already satisfied: jinja2==3.1.3 in /Users/potter/Documents/v/jupyter_venv/venv/lib/python3.10/site-packages (from unstructured) (3.1.3)\n",
      "Requirement already satisfied: fonttools==4.49.0 in /Users/potter/Documents/v/jupyter_venv/venv/lib/python3.10/site-packages (from unstructured) (4.49.0)\n",
      "Requirement already satisfied: zipp==3.17.0 in /Users/potter/Documents/v/jupyter_venv/venv/lib/python3.10/site-packages (from unstructured) (3.17.0)\n",
      "Requirement already satisfied: pyparsing==3.0.9 in /Users/potter/Documents/v/jupyter_venv/venv/lib/python3.10/site-packages (from unstructured) (3.0.9)\n",
      "Requirement already satisfied: iopath==0.1.10 in /Users/potter/Documents/v/jupyter_venv/venv/lib/python3.10/site-packages (from unstructured) (0.1.10)\n",
      "Requirement already satisfied: safetensors==0.3.2 in /Users/potter/Documents/v/jupyter_venv/venv/lib/python3.10/site-packages (from unstructured) (0.3.2)\n",
      "Requirement already satisfied: pytesseract==0.3.10 in /Users/potter/Documents/v/jupyter_venv/venv/lib/python3.10/site-packages (from unstructured) (0.3.10)\n",
      "Requirement already satisfied: filelock==3.13.1 in /Users/potter/Documents/v/jupyter_venv/venv/lib/python3.10/site-packages (from unstructured) (3.13.1)\n",
      "Requirement already satisfied: mpmath==1.3.0 in /Users/potter/Documents/v/jupyter_venv/venv/lib/python3.10/site-packages (from unstructured) (1.3.0)\n",
      "Requirement already satisfied: pycocotools==2.0.7 in /Users/potter/Documents/v/jupyter_venv/venv/lib/python3.10/site-packages (from unstructured) (2.0.7)\n",
      "Requirement already satisfied: markupsafe==2.1.5 in /Users/potter/Documents/v/jupyter_venv/venv/lib/python3.10/site-packages (from unstructured) (2.1.5)\n",
      "Requirement already satisfied: portalocker==2.8.2 in /Users/potter/Documents/v/jupyter_venv/venv/lib/python3.10/site-packages (from unstructured) (2.8.2)\n",
      "Requirement already satisfied: pyyaml==6.0.1 in /Users/potter/Documents/v/jupyter_venv/venv/lib/python3.10/site-packages (from unstructured) (6.0.1)\n",
      "Requirement already satisfied: contourpy==1.2.0 in /Users/potter/Documents/v/jupyter_venv/venv/lib/python3.10/site-packages (from unstructured) (1.2.0)\n",
      "Requirement already satisfied: deprecated==1.2.14 in /Users/potter/Documents/v/jupyter_venv/venv/lib/python3.10/site-packages (from unstructured) (1.2.14)\n",
      "Requirement already satisfied: importlib-resources==6.1.1 in /Users/potter/Documents/v/jupyter_venv/venv/lib/python3.10/site-packages (from unstructured) (6.1.1)\n",
      "Requirement already satisfied: matplotlib==3.7.2 in /Users/potter/Documents/v/jupyter_venv/venv/lib/python3.10/site-packages (from unstructured) (3.7.2)\n",
      "Requirement already satisfied: pikepdf==8.11.0 in /Users/potter/Documents/v/jupyter_venv/venv/lib/python3.10/site-packages (from unstructured) (8.11.0)\n",
      "Requirement already satisfied: pytz==2024.1 in /Users/potter/Documents/v/jupyter_venv/venv/lib/python3.10/site-packages (from unstructured) (2024.1)\n",
      "Requirement already satisfied: opencv-python==4.8.0.76 in /Users/potter/Documents/v/jupyter_venv/venv/lib/python3.10/site-packages (from unstructured) (4.8.0.76)\n",
      "Requirement already satisfied: cryptography==42.0.2 in /Users/potter/Documents/v/jupyter_venv/venv/lib/python3.10/site-packages (from unstructured) (42.0.2)\n",
      "Requirement already satisfied: pypdf==4.0.1 in /Users/potter/Documents/v/jupyter_venv/venv/lib/python3.10/site-packages (from unstructured) (4.0.1)\n",
      "Requirement already satisfied: antlr4-python3-runtime==4.9.3 in /Users/potter/Documents/v/jupyter_venv/venv/lib/python3.10/site-packages (from unstructured) (4.9.3)\n",
      "Requirement already satisfied: pillow==10.2.0 in /Users/potter/Documents/v/jupyter_venv/venv/lib/python3.10/site-packages (from unstructured) (10.2.0)\n",
      "Requirement already satisfied: unstructured-pytesseract==0.3.12 in /Users/potter/Documents/v/jupyter_venv/venv/lib/python3.10/site-packages (from unstructured) (0.3.12)\n",
      "Requirement already satisfied: kiwisolver==1.4.5 in /Users/potter/Documents/v/jupyter_venv/venv/lib/python3.10/site-packages (from unstructured) (1.4.5)\n",
      "Requirement already satisfied: networkx==3.2.1 in /Users/potter/Documents/v/jupyter_venv/venv/lib/python3.10/site-packages (from unstructured) (3.2.1)\n",
      "Requirement already satisfied: unstructured-inference==0.7.23 in /Users/potter/Documents/v/jupyter_venv/venv/lib/python3.10/site-packages (from unstructured) (0.7.23)\n",
      "Requirement already satisfied: protobuf==4.23.4 in /Users/potter/Documents/v/jupyter_venv/venv/lib/python3.10/site-packages (from unstructured) (4.23.4)\n",
      "Requirement already satisfied: pillow-heif==0.15.0 in /Users/potter/Documents/v/jupyter_venv/venv/lib/python3.10/site-packages (from unstructured) (0.15.0)\n",
      "Requirement already satisfied: pandas==2.2.0 in /Users/potter/Documents/v/jupyter_venv/venv/lib/python3.10/site-packages (from unstructured) (2.2.0)\n",
      "Requirement already satisfied: flatbuffers==23.5.26 in /Users/potter/Documents/v/jupyter_venv/venv/lib/python3.10/site-packages (from unstructured) (23.5.26)\n",
      "Requirement already satisfied: tzdata==2024.1 in /Users/potter/Documents/v/jupyter_venv/venv/lib/python3.10/site-packages (from unstructured) (2024.1)\n",
      "Requirement already satisfied: omegaconf==2.3.0 in /Users/potter/Documents/v/jupyter_venv/venv/lib/python3.10/site-packages (from unstructured) (2.3.0)\n",
      "Requirement already satisfied: torchvision==0.17.0 in /Users/potter/Documents/v/jupyter_venv/venv/lib/python3.10/site-packages (from unstructured) (0.17.0)\n",
      "Requirement already satisfied: transformers==4.37.1 in /Users/potter/Documents/v/jupyter_venv/venv/lib/python3.10/site-packages (from unstructured) (4.37.1)\n",
      "Requirement already satisfied: scipy==1.10.1 in /Users/potter/Documents/v/jupyter_venv/venv/lib/python3.10/site-packages (from unstructured) (1.10.1)\n",
      "Requirement already satisfied: pdfplumber==0.10.4 in /Users/potter/Documents/v/jupyter_venv/venv/lib/python3.10/site-packages (from unstructured) (0.10.4)\n",
      "Requirement already satisfied: effdet==0.4.1 in /Users/potter/Documents/v/jupyter_venv/venv/lib/python3.10/site-packages (from unstructured) (0.4.1)\n",
      "Requirement already satisfied: sympy==1.12 in /Users/potter/Documents/v/jupyter_venv/venv/lib/python3.10/site-packages (from unstructured) (1.12)\n",
      "Requirement already satisfied: layoutparser[layoutmodels,tesseract]==0.3.4 in /Users/potter/Documents/v/jupyter_venv/venv/lib/python3.10/site-packages (from unstructured) (0.3.4)\n",
      "Requirement already satisfied: cycler==0.12.1 in /Users/potter/Documents/v/jupyter_venv/venv/lib/python3.10/site-packages (from unstructured) (0.12.1)\n",
      "Requirement already satisfied: torch==2.2.0 in /Users/potter/Documents/v/jupyter_venv/venv/lib/python3.10/site-packages (from unstructured) (2.2.0)\n",
      "Requirement already satisfied: timm==0.9.12 in /Users/potter/Documents/v/jupyter_venv/venv/lib/python3.10/site-packages (from unstructured) (0.9.12)\n",
      "Requirement already satisfied: pypdfium2==4.27.0 in /Users/potter/Documents/v/jupyter_venv/venv/lib/python3.10/site-packages (from unstructured) (4.27.0)\n",
      "\n",
      "\u001b[1m[\u001b[0m\u001b[34;49mnotice\u001b[0m\u001b[1;39;49m]\u001b[0m\u001b[39;49m A new release of pip is available: \u001b[0m\u001b[31;49m23.0.1\u001b[0m\u001b[39;49m -> \u001b[0m\u001b[32;49m24.0\u001b[0m\n",
      "\u001b[1m[\u001b[0m\u001b[34;49mnotice\u001b[0m\u001b[1;39;49m]\u001b[0m\u001b[39;49m To update, run: \u001b[0m\u001b[32;49mpip install --upgrade pip\u001b[0m\n",
      "Note: you may need to restart the kernel to use updated packages.\n"
     ]
    }
   ],
   "source": [
    "pip install unstructured \"unstructured[s3]\" \"unstructured[notion]\" \"unstructured[pdf]\""
   ]
  },
  {
   "cell_type": "code",
   "execution_count": 18,
   "id": "07a508d8-d579-4485-b7de-e15f538584cf",
   "metadata": {},
   "outputs": [],
   "source": [
    "DOWNLOAD_DIR=\"output/download\"\n",
    "WORKING_DIR=\"output/working-directory\""
   ]
  },
  {
   "cell_type": "markdown",
   "id": "04df40d0-330b-4058-bd6a-d5efea09421a",
   "metadata": {},
   "source": [
    "## S3 Source Anonymous Bucket"
   ]
  },
  {
   "cell_type": "code",
   "execution_count": 19,
   "id": "9399eae9-346a-4be8-940c-f73cbd8cb030",
   "metadata": {},
   "outputs": [],
   "source": [
    "from unstructured.ingest.connector.fsspec.s3 import S3AccessConfig, SimpleS3Config\n",
    "from unstructured.ingest.interfaces import (\n",
    "    PartitionConfig,\n",
    "    ProcessorConfig,\n",
    "    ReadConfig,\n",
    ")\n",
    "from unstructured.ingest.runner import S3Runner"
   ]
  },
  {
   "cell_type": "code",
   "execution_count": 20,
   "id": "3e22dfb6-857a-4686-8e1c-1286ac56975c",
   "metadata": {},
   "outputs": [],
   "source": [
    "ANONYMOUS=True\n",
    "REMOTE_URL=\"s3://utic-dev-tech-fixtures/small-pdf-set/\""
   ]
  },
  {
   "cell_type": "code",
   "execution_count": 24,
   "id": "e2e90741-aada-4f70-b42f-b603ab877bf5",
   "metadata": {},
   "outputs": [
    {
     "name": "stderr",
     "output_type": "stream",
     "text": [
      "2024-04-04 10:31:38,429 MainProcess INFO     running pipeline: DocFactory -> Reader -> Partitioner -> Copier with config: {\"reprocess\": true, \"verbose\": true, \"work_dir\": \"output/working-directory\", \"output_dir\": \"output/s3/s3-small-batch-output\", \"num_processes\": 2, \"raise_on_error\": false}\n",
      "2024-04-04 10:31:38,487 MainProcess INFO     Running doc factory to generate ingest docs. Source connector: {\"processor_config\": {\"reprocess\": true, \"verbose\": true, \"work_dir\": \"output/working-directory\", \"output_dir\": \"output/s3/s3-small-batch-output\", \"num_processes\": 2, \"raise_on_error\": false}, \"read_config\": {\"download_dir\": \"output/download\", \"re_download\": true, \"preserve_downloads\": false, \"download_only\": false, \"max_docs\": null}, \"connector_config\": {\"remote_url\": \"s3://utic-dev-tech-fixtures/small-pdf-set/\", \"uncompress\": false, \"recursive\": false, \"file_glob\": null, \"access_config\": {\"anonymous\": true, \"endpoint_url\": null, \"key\": null, \"secret\": null, \"token\": null}, \"protocol\": \"s3\", \"path_without_protocol\": \"utic-dev-tech-fixtures/small-pdf-set/\", \"dir_path\": \"utic-dev-tech-fixtures\", \"file_path\": \"small-pdf-set/\"}}\n",
      "2024-04-04 10:31:38,493 MainProcess INFO     processing 4 docs via 2 processes\n",
      "2024-04-04 10:31:38,494 MainProcess INFO     Calling Reader with 4 docs\n",
      "2024-04-04 10:31:38,494 MainProcess INFO     Running source node to download data associated with ingest docs\n",
      "2024-04-04 10:31:39,269 SpawnPoolWorker-59 DEBUG    Fetching {\"processor_config\": {\"reprocess\": true, \"verbose\": true, \"work_dir\": \"output/working-directory\", \"output_dir\": \"output/s3/s3-small-batch-output\", \"num_processes\": 2, \"raise_on_error\": false}, \"read_config\": {\"download_dir\": \"output/download\", \"re_download\": true, \"preserve_downloads\": false, \"download_only\": false, \"max_docs\": null}, \"connector_config\": {\"remote_url\": \"s3://utic-dev-tech-fixtures/small-pdf-set/\", \"uncompress\": false, \"recursive\": false, \"file_glob\": null, \"access_config\": {\"anonymous\": true, \"endpoint_url\": null, \"key\": null, \"secret\": null, \"token\": null}, \"protocol\": \"s3\", \"path_without_protocol\": \"utic-dev-tech-fixtures/small-pdf-set/\", \"dir_path\": \"utic-dev-tech-fixtures\", \"file_path\": \"small-pdf-set/\"}, \"_source_metadata\": null, \"_date_processed\": null, \"remote_file_path\": \"utic-dev-tech-fixtures/small-pdf-set/Silent-Giant-(1).pdf\", \"registry_name\": \"s3\", \"base_filename\": \"output/download/small-pdf-set/Silent-Giant-(1).pdf\", \"filename\": \"output/download/small-pdf-set/Silent-Giant-(1).pdf\", \"_output_filename\": \"output/s3/s3-small-batch-output/Silent-Giant-(1).pdf.json\", \"record_locator\": {\"protocol\": \"s3\", \"remote_file_path\": \"utic-dev-tech-fixtures/small-pdf-set/Silent-Giant-(1).pdf\"}, \"unique_id\": \"output/download/small-pdf-set/Silent-Giant-(1).pdf\"} - PID: 97031\n",
      "2024-04-04 10:31:39,269 SpawnPoolWorker-58 DEBUG    Fetching {\"processor_config\": {\"reprocess\": true, \"verbose\": true, \"work_dir\": \"output/working-directory\", \"output_dir\": \"output/s3/s3-small-batch-output\", \"num_processes\": 2, \"raise_on_error\": false}, \"read_config\": {\"download_dir\": \"output/download\", \"re_download\": true, \"preserve_downloads\": false, \"download_only\": false, \"max_docs\": null}, \"connector_config\": {\"remote_url\": \"s3://utic-dev-tech-fixtures/small-pdf-set/\", \"uncompress\": false, \"recursive\": false, \"file_glob\": null, \"access_config\": {\"anonymous\": true, \"endpoint_url\": null, \"key\": null, \"secret\": null, \"token\": null}, \"protocol\": \"s3\", \"path_without_protocol\": \"utic-dev-tech-fixtures/small-pdf-set/\", \"dir_path\": \"utic-dev-tech-fixtures\", \"file_path\": \"small-pdf-set/\"}, \"_source_metadata\": null, \"_date_processed\": null, \"remote_file_path\": \"utic-dev-tech-fixtures/small-pdf-set/2023-Jan-economic-outlook.pdf\", \"registry_name\": \"s3\", \"base_filename\": \"output/download/small-pdf-set/2023-Jan-economic-outlook.pdf\", \"filename\": \"output/download/small-pdf-set/2023-Jan-economic-outlook.pdf\", \"_output_filename\": \"output/s3/s3-small-batch-output/2023-Jan-economic-outlook.pdf.json\", \"record_locator\": {\"protocol\": \"s3\", \"remote_file_path\": \"utic-dev-tech-fixtures/small-pdf-set/2023-Jan-economic-outlook.pdf\"}, \"unique_id\": \"output/download/small-pdf-set/2023-Jan-economic-outlook.pdf\"} - PID: 97030\n",
      "2024-04-04 10:31:41,166 SpawnPoolWorker-58 DEBUG    Fetching {\"processor_config\": {\"reprocess\": true, \"verbose\": true, \"work_dir\": \"output/working-directory\", \"output_dir\": \"output/s3/s3-small-batch-output\", \"num_processes\": 2, \"raise_on_error\": false}, \"read_config\": {\"download_dir\": \"output/download\", \"re_download\": true, \"preserve_downloads\": false, \"download_only\": false, \"max_docs\": null}, \"connector_config\": {\"remote_url\": \"s3://utic-dev-tech-fixtures/small-pdf-set/\", \"uncompress\": false, \"recursive\": false, \"file_glob\": null, \"access_config\": {\"anonymous\": true, \"endpoint_url\": null, \"key\": null, \"secret\": null, \"token\": null}, \"protocol\": \"s3\", \"path_without_protocol\": \"utic-dev-tech-fixtures/small-pdf-set/\", \"dir_path\": \"utic-dev-tech-fixtures\", \"file_path\": \"small-pdf-set/\"}, \"_source_metadata\": null, \"_date_processed\": null, \"remote_file_path\": \"utic-dev-tech-fixtures/small-pdf-set/page-with-formula.pdf\", \"registry_name\": \"s3\", \"base_filename\": \"output/download/small-pdf-set/page-with-formula.pdf\", \"filename\": \"output/download/small-pdf-set/page-with-formula.pdf\", \"_output_filename\": \"output/s3/s3-small-batch-output/page-with-formula.pdf.json\", \"record_locator\": {\"protocol\": \"s3\", \"remote_file_path\": \"utic-dev-tech-fixtures/small-pdf-set/page-with-formula.pdf\"}, \"unique_id\": \"output/download/small-pdf-set/page-with-formula.pdf\"} - PID: 97030\n",
      "2024-04-04 10:31:41,491 SpawnPoolWorker-59 DEBUG    Fetching {\"processor_config\": {\"reprocess\": true, \"verbose\": true, \"work_dir\": \"output/working-directory\", \"output_dir\": \"output/s3/s3-small-batch-output\", \"num_processes\": 2, \"raise_on_error\": false}, \"read_config\": {\"download_dir\": \"output/download\", \"re_download\": true, \"preserve_downloads\": false, \"download_only\": false, \"max_docs\": null}, \"connector_config\": {\"remote_url\": \"s3://utic-dev-tech-fixtures/small-pdf-set/\", \"uncompress\": false, \"recursive\": false, \"file_glob\": null, \"access_config\": {\"anonymous\": true, \"endpoint_url\": null, \"key\": null, \"secret\": null, \"token\": null}, \"protocol\": \"s3\", \"path_without_protocol\": \"utic-dev-tech-fixtures/small-pdf-set/\", \"dir_path\": \"utic-dev-tech-fixtures\", \"file_path\": \"small-pdf-set/\"}, \"_source_metadata\": null, \"_date_processed\": null, \"remote_file_path\": \"utic-dev-tech-fixtures/small-pdf-set/recalibrating-risk-report.pdf\", \"registry_name\": \"s3\", \"base_filename\": \"output/download/small-pdf-set/recalibrating-risk-report.pdf\", \"filename\": \"output/download/small-pdf-set/recalibrating-risk-report.pdf\", \"_output_filename\": \"output/s3/s3-small-batch-output/recalibrating-risk-report.pdf.json\", \"record_locator\": {\"protocol\": \"s3\", \"remote_file_path\": \"utic-dev-tech-fixtures/small-pdf-set/recalibrating-risk-report.pdf\"}, \"unique_id\": \"output/download/small-pdf-set/recalibrating-risk-report.pdf\"} - PID: 97031\n",
      "2024-04-04 10:31:42,249 MainProcess INFO     Calling Partitioner with 4 docs\n",
      "2024-04-04 10:31:42,250 MainProcess INFO     Running partition node to extract content from json files. Config: {\"pdf_infer_table_structure\": false, \"strategy\": \"auto\", \"ocr_languages\": null, \"encoding\": null, \"additional_partition_args\": {}, \"skip_infer_table_types\": null, \"fields_include\": [\"element_id\", \"text\", \"type\", \"metadata\", \"embeddings\"], \"flatten_metadata\": false, \"metadata_exclude\": [], \"metadata_include\": [], \"partition_endpoint\": \"https://api.unstructured.io/general/v0/general\", \"partition_by_api\": false, \"api_key\": null, \"hi_res_model_name\": null}, partition kwargs: {}]\n",
      "2024-04-04 10:31:42,251 MainProcess INFO     Creating /Users/potter/Documents/unstructured/examples/ingest/notebooks/output/working-directory/partitioned\n",
      "2024-04-04 10:31:42,922 SpawnPoolWorker-61 INFO     Processing output/download/small-pdf-set/Silent-Giant-(1).pdf\n",
      "2024-04-04 10:31:42,922 SpawnPoolWorker-60 INFO     Processing output/download/small-pdf-set/2023-Jan-economic-outlook.pdf\n",
      "2024-04-04 10:31:43,604 SpawnPoolWorker-60 DEBUG    Using local partition\n",
      "2024-04-04 10:31:43,607 SpawnPoolWorker-61 DEBUG    Using local partition\n",
      "2024-04-04 10:31:43,983 SpawnPoolWorker-61 INFO     writing partitioned content to /Users/potter/Documents/unstructured/examples/ingest/notebooks/output/working-directory/partitioned/4ba80b4a5b2e31e6d99815dcb2cf4559.json\n",
      "2024-04-04 10:31:43,992 SpawnPoolWorker-61 INFO     Processing output/download/small-pdf-set/page-with-formula.pdf\n",
      "2024-04-04 10:31:43,992 SpawnPoolWorker-61 DEBUG    Using local partition\n",
      "2024-04-04 10:31:44,056 SpawnPoolWorker-61 INFO     writing partitioned content to /Users/potter/Documents/unstructured/examples/ingest/notebooks/output/working-directory/partitioned/781eecf8a655593e4dfeda7dd4c75143.json\n",
      "2024-04-04 10:31:44,058 SpawnPoolWorker-61 INFO     Processing output/download/small-pdf-set/recalibrating-risk-report.pdf\n",
      "2024-04-04 10:31:44,058 SpawnPoolWorker-61 DEBUG    Using local partition\n",
      "2024-04-04 10:31:44,395 SpawnPoolWorker-61 INFO     writing partitioned content to /Users/potter/Documents/unstructured/examples/ingest/notebooks/output/working-directory/partitioned/d536fdaa4621789010595824c8cd568a.json\n",
      "2024-04-04 10:31:46,847 SpawnPoolWorker-60 INFO     writing partitioned content to /Users/potter/Documents/unstructured/examples/ingest/notebooks/output/working-directory/partitioned/101a85f859c1d854f6a30ef2ca5f5563.json\n",
      "2024-04-04 10:31:46,863 MainProcess INFO     Calling Copier with 4 docs\n",
      "2024-04-04 10:31:46,863 MainProcess INFO     Running copy node to move content to desired output location\n",
      "2024-04-04 10:31:47,540 SpawnPoolWorker-63 INFO     Copying /Users/potter/Documents/unstructured/examples/ingest/notebooks/output/working-directory/partitioned/4ba80b4a5b2e31e6d99815dcb2cf4559.json -> output/s3/s3-small-batch-output/Silent-Giant-(1).pdf.json\n",
      "2024-04-04 10:31:47,540 SpawnPoolWorker-62 INFO     Copying /Users/potter/Documents/unstructured/examples/ingest/notebooks/output/working-directory/partitioned/101a85f859c1d854f6a30ef2ca5f5563.json -> output/s3/s3-small-batch-output/2023-Jan-economic-outlook.pdf.json\n",
      "2024-04-04 10:31:47,542 SpawnPoolWorker-63 INFO     Copying /Users/potter/Documents/unstructured/examples/ingest/notebooks/output/working-directory/partitioned/781eecf8a655593e4dfeda7dd4c75143.json -> output/s3/s3-small-batch-output/page-with-formula.pdf.json\n",
      "2024-04-04 10:31:47,542 SpawnPoolWorker-62 INFO     Copying /Users/potter/Documents/unstructured/examples/ingest/notebooks/output/working-directory/partitioned/d536fdaa4621789010595824c8cd568a.json -> output/s3/s3-small-batch-output/recalibrating-risk-report.pdf.json\n"
     ]
    }
   ],
   "source": [
    "runner = S3Runner(\n",
    "    processor_config=ProcessorConfig(\n",
    "        verbose=True,\n",
    "        output_dir=\"output/s3/s3-small-batch-output\",\n",
    "        num_processes=2,\n",
    "        reprocess=True,\n",
    "        work_dir=WORKING_DIR,\n",
    "        \n",
    "    ),\n",
    "    read_config=ReadConfig(\n",
    "        download_dir=DOWNLOAD_DIR,\n",
    "        re_download=True,\n",
    "    ),\n",
    "    partition_config=PartitionConfig(),\n",
    "    connector_config=SimpleS3Config(\n",
    "        access_config=S3AccessConfig(\n",
    "            anon=ANONYMOUS,\n",
    "        ),\n",
    "        remote_url=REMOTE_URL,\n",
    "    ),\n",
    ")\n",
    "runner.run()"
   ]
  },
  {
   "cell_type": "code",
   "execution_count": 25,
   "id": "fe367cb7-53f0-44d8-95f5-dbe2a753b2be",
   "metadata": {},
   "outputs": [
    {
     "name": "stdout",
     "output_type": "stream",
     "text": [
      "2023-Jan-economic-outlook.pdf.json page-with-formula.pdf.json\n",
      "Silent-Giant-(1).pdf.json          recalibrating-risk-report.pdf.json\n"
     ]
    }
   ],
   "source": [
    "!ls output/s3/s3-small-batch-output/"
   ]
  },
  {
   "cell_type": "markdown",
   "id": "dad47580-de13-4345-82a1-11cf95fcc3f9",
   "metadata": {},
   "source": [
    "## S3 Source Authenticated Bucket"
   ]
  },
  {
   "cell_type": "code",
   "execution_count": 13,
   "id": "1b4e41fe-575a-4768-9e19-3106a67014ef",
   "metadata": {},
   "outputs": [],
   "source": [
    "ANONYMOUS=False\n",
    "REMOTE_URL=\"s3://utic-dev-tech-fixtures/small-pdf-set/\"\n",
    "AWS_ACCESS_KEY_ID=\"\"\n",
    "AWS_SECRET_ACCESS_KEY=\"\""
   ]
  },
  {
   "cell_type": "code",
   "execution_count": 15,
   "id": "4e42322b-78b3-4902-9957-3b0629d9554e",
   "metadata": {},
   "outputs": [
    {
     "name": "stderr",
     "output_type": "stream",
     "text": [
      "2024-04-04 10:20:43,524 MainProcess DEBUG    updating download directory to: /Users/potter/.cache/unstructured/ingest/s3/5fa7b1d6a0\n",
      "2024-04-04 10:20:43,526 MainProcess INFO     running pipeline: DocFactory -> Reader -> Partitioner -> Copier with config: {\"reprocess\": true, \"verbose\": true, \"work_dir\": \"/Users/potter/.cache/unstructured/ingest/pipeline\", \"output_dir\": \"output/s3/s3-authenticated-output\", \"num_processes\": 2, \"raise_on_error\": false}\n",
      "2024-04-04 10:20:43,583 MainProcess INFO     Running doc factory to generate ingest docs. Source connector: {\"processor_config\": {\"reprocess\": true, \"verbose\": true, \"work_dir\": \"/Users/potter/.cache/unstructured/ingest/pipeline\", \"output_dir\": \"output/s3/s3-authenticated-output\", \"num_processes\": 2, \"raise_on_error\": false}, \"read_config\": {\"download_dir\": \"/Users/potter/.cache/unstructured/ingest/s3/5fa7b1d6a0\", \"re_download\": false, \"preserve_downloads\": false, \"download_only\": false, \"max_docs\": null}, \"connector_config\": {\"remote_url\": \"s3://utic-dev-tech-fixtures/small-pdf-set/\", \"uncompress\": false, \"recursive\": false, \"file_glob\": null, \"access_config\": {\"anonymous\": false, \"endpoint_url\": null, \"key\": \"*******\", \"secret\": \"*******\", \"token\": null}, \"protocol\": \"s3\", \"path_without_protocol\": \"utic-dev-tech-fixtures/small-pdf-set/\", \"dir_path\": \"utic-dev-tech-fixtures\", \"file_path\": \"small-pdf-set/\"}}\n",
      "2024-04-04 10:20:44,331 MainProcess INFO     processing 4 docs via 2 processes\n",
      "2024-04-04 10:20:44,334 MainProcess INFO     Calling Reader with 4 docs\n",
      "2024-04-04 10:20:44,335 MainProcess INFO     Running source node to download data associated with ingest docs\n",
      "2024-04-04 10:20:45,376 SpawnPoolWorker-31 INFO     File exists: /Users/potter/.cache/unstructured/ingest/s3/5fa7b1d6a0/small-pdf-set/Silent-Giant-(1).pdf, skipping download\n",
      "2024-04-04 10:20:45,376 SpawnPoolWorker-30 INFO     File exists: /Users/potter/.cache/unstructured/ingest/s3/5fa7b1d6a0/small-pdf-set/2023-Jan-economic-outlook.pdf, skipping download\n",
      "2024-04-04 10:20:46,175 SpawnPoolWorker-31 INFO     File exists: /Users/potter/.cache/unstructured/ingest/s3/5fa7b1d6a0/small-pdf-set/page-with-formula.pdf, skipping download\n",
      "2024-04-04 10:20:46,204 SpawnPoolWorker-30 INFO     File exists: /Users/potter/.cache/unstructured/ingest/s3/5fa7b1d6a0/small-pdf-set/recalibrating-risk-report.pdf, skipping download\n",
      "2024-04-04 10:20:46,516 MainProcess INFO     Calling Partitioner with 4 docs\n",
      "2024-04-04 10:20:46,517 MainProcess INFO     Running partition node to extract content from json files. Config: {\"pdf_infer_table_structure\": false, \"strategy\": \"auto\", \"ocr_languages\": null, \"encoding\": null, \"additional_partition_args\": {}, \"skip_infer_table_types\": null, \"fields_include\": [\"element_id\", \"text\", \"type\", \"metadata\", \"embeddings\"], \"flatten_metadata\": false, \"metadata_exclude\": [], \"metadata_include\": [], \"partition_endpoint\": \"https://api.unstructured.io/general/v0/general\", \"partition_by_api\": false, \"api_key\": null, \"hi_res_model_name\": null}, partition kwargs: {}]\n",
      "2024-04-04 10:20:46,518 MainProcess INFO     Creating /Users/potter/.cache/unstructured/ingest/pipeline/partitioned\n",
      "2024-04-04 10:20:47,158 SpawnPoolWorker-33 INFO     Processing /Users/potter/.cache/unstructured/ingest/s3/5fa7b1d6a0/small-pdf-set/Silent-Giant-(1).pdf\n",
      "2024-04-04 10:20:47,455 SpawnPoolWorker-32 INFO     Processing /Users/potter/.cache/unstructured/ingest/s3/5fa7b1d6a0/small-pdf-set/2023-Jan-economic-outlook.pdf\n",
      "2024-04-04 10:20:47,756 SpawnPoolWorker-33 DEBUG    Using local partition\n",
      "2024-04-04 10:20:48,246 SpawnPoolWorker-33 INFO     writing partitioned content to /Users/potter/.cache/unstructured/ingest/pipeline/partitioned/f5c94104cc219b1ff3af2d4496242a77.json\n",
      "2024-04-04 10:20:48,255 SpawnPoolWorker-33 INFO     Processing /Users/potter/.cache/unstructured/ingest/s3/5fa7b1d6a0/small-pdf-set/page-with-formula.pdf\n",
      "2024-04-04 10:20:48,255 SpawnPoolWorker-33 DEBUG    Using local partition\n",
      "2024-04-04 10:20:48,276 SpawnPoolWorker-32 DEBUG    Using local partition\n",
      "2024-04-04 10:20:48,317 SpawnPoolWorker-33 INFO     writing partitioned content to /Users/potter/.cache/unstructured/ingest/pipeline/partitioned/fe37a1a42057361f4dbca0444ff3b04f.json\n",
      "2024-04-04 10:20:48,320 SpawnPoolWorker-33 INFO     Processing /Users/potter/.cache/unstructured/ingest/s3/5fa7b1d6a0/small-pdf-set/recalibrating-risk-report.pdf\n",
      "2024-04-04 10:20:48,320 SpawnPoolWorker-33 DEBUG    Using local partition\n",
      "2024-04-04 10:20:48,665 SpawnPoolWorker-33 INFO     writing partitioned content to /Users/potter/.cache/unstructured/ingest/pipeline/partitioned/5123cc1cec6bbd86e7bc71fa51251ad3.json\n",
      "2024-04-04 10:20:51,548 SpawnPoolWorker-32 INFO     writing partitioned content to /Users/potter/.cache/unstructured/ingest/pipeline/partitioned/a26fc1fc7e7fa312f53f9123accd659b.json\n",
      "2024-04-04 10:20:51,566 MainProcess INFO     Calling Copier with 4 docs\n",
      "2024-04-04 10:20:51,566 MainProcess INFO     Running copy node to move content to desired output location\n",
      "2024-04-04 10:20:52,188 SpawnPoolWorker-34 INFO     Copying /Users/potter/.cache/unstructured/ingest/pipeline/partitioned/a26fc1fc7e7fa312f53f9123accd659b.json -> output/s3/s3-authenticated-output/2023-Jan-economic-outlook.pdf.json\n",
      "2024-04-04 10:20:52,188 SpawnPoolWorker-35 INFO     Copying /Users/potter/.cache/unstructured/ingest/pipeline/partitioned/f5c94104cc219b1ff3af2d4496242a77.json -> output/s3/s3-authenticated-output/Silent-Giant-(1).pdf.json\n",
      "2024-04-04 10:20:52,190 SpawnPoolWorker-34 INFO     Copying /Users/potter/.cache/unstructured/ingest/pipeline/partitioned/5123cc1cec6bbd86e7bc71fa51251ad3.json -> output/s3/s3-authenticated-output/recalibrating-risk-report.pdf.json\n",
      "2024-04-04 10:20:52,190 SpawnPoolWorker-35 INFO     Copying /Users/potter/.cache/unstructured/ingest/pipeline/partitioned/fe37a1a42057361f4dbca0444ff3b04f.json -> output/s3/s3-authenticated-output/page-with-formula.pdf.json\n"
     ]
    }
   ],
   "source": [
    "runner = S3Runner(\n",
    "    processor_config=ProcessorConfig(\n",
    "        verbose=True,\n",
    "        output_dir=\"output/s3/s3-authenticated-output\",\n",
    "        num_processes=2,\n",
    "        reprocess=True,\n",
    "        work_dir=WORKING_DIR,\n",
    "    ),\n",
    "    read_config=ReadConfig(\n",
    "        download_dir=DOWNLOAD_DIR,\n",
    "        re_download=True,),\n",
    "    partition_config=PartitionConfig(),\n",
    "    connector_config=SimpleS3Config(\n",
    "        access_config=S3AccessConfig(\n",
    "            anon=ANONYMOUS,\n",
    "            key=AWS_ACCESS_KEY_ID,\n",
    "            secret=AWS_SECRET_ACCESS_KEY,\n",
    "        ),\n",
    "        remote_url=REMOTE_URL,\n",
    "    ),\n",
    ")\n",
    "runner.run()"
   ]
  },
  {
   "cell_type": "code",
   "execution_count": null,
   "id": "40a63b77-3fa9-4506-bf3f-52f97f26dea2",
   "metadata": {},
   "outputs": [],
   "source": [
    "!ls output/s3/s3-authenticated-output/"
   ]
  }
 ],
 "metadata": {
  "kernelspec": {
   "display_name": "Python 3 (ipykernel)",
   "language": "python",
   "name": "python3"
  },
  "language_info": {
   "codemirror_mode": {
    "name": "ipython",
    "version": 3
   },
   "file_extension": ".py",
   "mimetype": "text/x-python",
   "name": "python",
   "nbconvert_exporter": "python",
   "pygments_lexer": "ipython3",
   "version": "3.10.13"
  }
 },
 "nbformat": 4,
 "nbformat_minor": 5
}
