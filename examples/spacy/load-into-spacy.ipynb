{
 "cells": [
  {
   "cell_type": "markdown",
   "id": "d65f9898",
   "metadata": {},
   "source": [
    "# Loading D"
   ]
  },
  {
   "cell_type": "markdown",
   "id": "f6d8941a",
   "metadata": {},
   "source": [
    "The goal of this notebook is to show you how to start a spacy project with Unstructured's Elements. This allows you to create your NLP projects.\n",
    "\n",
    "Make sure you have Spacy installed on your local computer before running this notebook. If not, you can find the instructions for installation [here](https://spacy.io/usage)."
   ]
  },
  {
   "cell_type": "markdown",
   "id": "b8139fed",
   "metadata": {},
   "source": [
    "# Preprocess Documents with Unstructured"
   ]
  },
  {
   "cell_type": "markdown",
   "id": "60b3b6a9",
   "metadata": {},
   "source": [
    "First, we'll pre-process a few documents using the the `unstructured` libraries. The example documents are available under the `example-docs` directory in the `unstructured` repo. At the end of this section, we'll wind up with a list of `Element` objects that we can pass into an `unstructured` staging brick."
   ]
  },
  {
   "cell_type": "code",
   "execution_count": 16,
   "id": "f004bc0b",
   "metadata": {},
   "outputs": [],
   "source": [
    "import os\n",
    "\n",
    "from unstructured.partition.auto import partition"
   ]
  },
  {
   "cell_type": "code",
   "execution_count": 17,
   "id": "f1a6e05c",
   "metadata": {},
   "outputs": [],
   "source": [
    "# NOTE: Update this directory if you are running the notebook\n",
    "# from somewhere other than the examples/mysql folder in the\n",
    "# unstructured repo\n",
    "EXAMPLE_DOCS_FOLDER = \"../unstructured/example-docs/\""
   ]
  },
  {
   "cell_type": "code",
   "execution_count": 18,
   "id": "72f139a0",
   "metadata": {},
   "outputs": [],
   "source": [
    "documents_to_process = [\n",
    "    \"fake-email.eml\",\n",
    "    \"fake.docx\",\n",
    "    \"layout-parser-paper-fast.pdf\",\n",
    "]"
   ]
  },
  {
   "cell_type": "code",
   "execution_count": 19,
   "id": "a5545ac5",
   "metadata": {},
   "outputs": [],
   "source": [
    "elements = []\n",
    "for document in documents_to_process:\n",
    "    filename = os.path.join(EXAMPLE_DOCS_FOLDER, document)\n",
    "    elements.extend(partition(filename=filename, strategy=\"fast\"))"
   ]
  },
  {
   "cell_type": "code",
   "execution_count": 20,
   "id": "14122cbe",
   "metadata": {},
   "outputs": [
    {
     "data": {
      "text/plain": [
       "'This is a test email to use for unit tests.'"
      ]
     },
     "execution_count": 20,
     "metadata": {},
     "output_type": "execute_result"
    }
   ],
   "source": [
    "elements[0].text"
   ]
  },
  {
   "cell_type": "code",
   "execution_count": 21,
   "id": "1e1c317e",
   "metadata": {},
   "outputs": [
    {
     "data": {
      "text/plain": [
       "{'filename': 'fake-email.eml',\n",
       " 'date': '2022-12-16T17:04:16-05:00',\n",
       " 'sent_from': ['Matthew Robinson <mrobinson@unstructured.io>'],\n",
       " 'sent_to': ['Matthew Robinson <mrobinson@unstructured.io>'],\n",
       " 'subject': 'Test Email'}"
      ]
     },
     "execution_count": 21,
     "metadata": {},
     "output_type": "execute_result"
    }
   ],
   "source": [
    "elements[0].metadata.to_dict()"
   ]
  },
  {
   "cell_type": "markdown",
   "id": "a4710622",
   "metadata": {},
   "source": [
    "# Convert to Spacy Object"
   ]
  },
  {
   "cell_type": "code",
   "execution_count": 22,
   "id": "f575378a",
   "metadata": {},
   "outputs": [],
   "source": [
    "import spacy"
   ]
  },
  {
   "cell_type": "code",
   "execution_count": 23,
   "id": "1754f942",
   "metadata": {},
   "outputs": [],
   "source": [
    "nlp = spacy.load(\"en_core_web_sm\")"
   ]
  },
  {
   "cell_type": "code",
   "execution_count": 34,
   "id": "71d49923",
   "metadata": {},
   "outputs": [],
   "source": [
    "doc = nlp(elements[0].text)"
   ]
  },
  {
   "cell_type": "code",
   "execution_count": 37,
   "id": "f53c8031",
   "metadata": {},
   "outputs": [
    {
     "name": "stdout",
     "output_type": "stream",
     "text": [
      "This\n",
      "a test email\n",
      "unit tests\n"
     ]
    }
   ],
   "source": [
    "for i in doc.noun_chunks:\n",
    "    print(i)"
   ]
  },
  {
   "cell_type": "code",
   "execution_count": 39,
   "id": "cfe8fe01",
   "metadata": {},
   "outputs": [
    {
     "name": "stdout",
     "output_type": "stream",
     "text": [
      "Verbs: ['use']\n"
     ]
    }
   ],
   "source": [
    "print(\"Verbs:\", [token.lemma_ for token in doc if token.pos_ == \"VERB\"])"
   ]
  },
  {
   "cell_type": "code",
   "execution_count": 43,
   "id": "309f7188",
   "metadata": {},
   "outputs": [
    {
     "name": "stdout",
     "output_type": "stream",
     "text": [
      "95 this\n",
      "87 be\n",
      "90 a\n",
      "92 test\n",
      "92 email\n",
      "94 to\n",
      "100 use\n",
      "85 for\n",
      "92 unit\n",
      "92 test\n",
      "97 .\n"
     ]
    }
   ],
   "source": [
    "for token in doc:\n",
    "    print(token.pos, token.lemma_)"
   ]
  },
  {
   "cell_type": "code",
   "execution_count": null,
   "id": "f6d15878",
   "metadata": {},
   "outputs": [],
   "source": []
  }
 ],
 "metadata": {
  "kernelspec": {
   "display_name": "Python 3 (ipykernel)",
   "language": "python",
   "name": "python3"
  },
  "language_info": {
   "codemirror_mode": {
    "name": "ipython",
    "version": 3
   },
   "file_extension": ".py",
   "mimetype": "text/x-python",
   "name": "python",
   "nbconvert_exporter": "python",
   "pygments_lexer": "ipython3",
   "version": "3.8.15"
  }
 },
 "nbformat": 4,
 "nbformat_minor": 5
}
